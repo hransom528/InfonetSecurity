{
 "cells": [
  {
   "cell_type": "markdown",
   "id": "1f7a9a20",
   "metadata": {},
   "source": [
    "# Infonet Security HW2\n",
    "#### Harris A. Ransom\n",
    "#### 10/09/2024"
   ]
  },
  {
   "cell_type": "markdown",
   "id": "d0b90ac1",
   "metadata": {},
   "source": [
    "## Imports"
   ]
  },
  {
   "cell_type": "code",
   "execution_count": 81,
   "id": "759f01fb",
   "metadata": {},
   "outputs": [],
   "source": [
    "# Imports\n",
    "from datetime import datetime\n",
    "from math import gcd, sqrt\n",
    "import random\n",
    "import numpy as np"
   ]
  },
  {
   "cell_type": "markdown",
   "id": "6324685b",
   "metadata": {},
   "source": [
    "## 1. One-Time Pad "
   ]
  },
  {
   "cell_type": "code",
   "execution_count": 82,
   "id": "fab6cd6d",
   "metadata": {},
   "outputs": [
    {
     "name": "stdout",
     "output_type": "stream",
     "text": [
      "Ciphertext: ['L', '@', '\\x1b', '.', 'D', '|', 'S', '8', '\\x19', 'Z', '\\x15']\n",
      "Decrypted Message: helloAlice!\n",
      "Plaintext successfully encrypted and decrypted!\n"
     ]
    }
   ],
   "source": [
    "# One-Time Pad XOR Encrypt Function\n",
    "def otpEncrypt(m, k):\n",
    "\tciphertext = []\n",
    "\tif (len(m) != len(k)):\n",
    "\t\traise ValueError(\"Message and key are not the same length\")\n",
    "\t\n",
    "\tfor i in range(0, len(m)):\n",
    "\t\tc = ord(m[i]) ^ ord(k[i])\n",
    "\t\tciphertext.append(chr(c))\n",
    "\treturn ciphertext\n",
    "\n",
    "# One-Time Pad XOR Decrypt Function\n",
    "def otpDecrypt(c, k):\n",
    "\tplaintext = []\n",
    "\tif (len(c) != len(k)):\n",
    "\t\traise ValueError(\"Ciphertext and key are not the same length\")\n",
    "\n",
    "\tfor i in range(0, len(c)):\n",
    "\t\tp = ord(c[i]) ^ ord(k[i])\n",
    "\t\tplaintext.append(chr(p))\n",
    "\treturn \"\".join(plaintext)\n",
    "\n",
    "# Initialize plaintext and key\n",
    "plaintext = \"helloAlice!\"\n",
    "key = \"$%wB+=?Qz?4\" # I know defining a key in plaintext is bad practice, but it's just for testing purposes\n",
    "\n",
    "# Encrypt plaintext\n",
    "ciphertext = otpEncrypt(plaintext, key)\n",
    "print(f\"Ciphertext: {ciphertext}\")\n",
    "\n",
    "# Decrypt ciphertext\n",
    "decrypted = otpDecrypt(ciphertext, key)\n",
    "print(f\"Decrypted Message: {decrypted}\")\n",
    "if (decrypted == plaintext):\n",
    "\tprint(\"Plaintext successfully encrypted and decrypted!\")\n",
    "else:\n",
    "\tprint(\"Error in encryption/decryption process!\")"
   ]
  },
  {
   "cell_type": "markdown",
   "id": "bbc18fb6",
   "metadata": {},
   "source": [
    "## 2. Blum-Blum-Shub PRNG"
   ]
  },
  {
   "cell_type": "code",
   "execution_count": 83,
   "id": "d5815c6c",
   "metadata": {},
   "outputs": [
    {
     "name": "stdout",
     "output_type": "stream",
     "text": [
      "Number of 0s: 499675\n",
      "Number of (0,0) pairs: 249396\n",
      "Frequency of 0s: 0.499675\n",
      "Frequency of (0,0) pairs: 0.2493962493962494\n"
     ]
    }
   ],
   "source": [
    "# Helper function to check if a number is prime\n",
    "def isPrime(n):\n",
    "    prime_flag = 0\n",
    "\n",
    "    if(n > 1):\n",
    "        for i in range(2, int(sqrt(n)) + 1):\n",
    "            if (n % i == 0):\n",
    "                prime_flag = 1\n",
    "                break\n",
    "        if (prime_flag == 0):\n",
    "            return True\n",
    "        else:\n",
    "            return False\n",
    "    else:\n",
    "        return False\n",
    "    \n",
    "# Helper function to check if two numbers are relatively prime\n",
    "def coprime(a, b):\n",
    "    return gcd(a, b) == 1\n",
    "\n",
    "# Generates N pseudo-random bits\n",
    "def bbsGenerate(p, q, seed, numBits):\n",
    "\tprngBits = []\n",
    "\tx = []\n",
    "\tn = p*q\n",
    "\n",
    "\t# Initialize with seed value\n",
    "\tx0 = (seed**2) % n\n",
    "\tx.append(x0)\n",
    "\tprngBits.append(x0 % 2)\n",
    "\n",
    "\t# Generate rest of the bits\n",
    "\tfor i in range(0, numBits-1):\n",
    "\t\txi = (x[i] ** 2) % n\n",
    "\t\tx.append(xi)\n",
    "\t\tprngBits.append(xi % 2)\n",
    "\treturn prngBits\n",
    "\n",
    "# Choose p, q, seed\n",
    "# p = q = 3 (mod 4)\n",
    "p = (random.randint(100000000, 10000000000) * 4) + 3\n",
    "while (not isPrime(p)):\n",
    "    p = (random.randint(100000000, 10000000000) * 4) + 3\n",
    "q = (random.randint(100000000, 10000000000) * 4) + 3\n",
    "while (not isPrime(q)):\n",
    "    q = (random.randint(100000000, 10000000000) * 4) + 3\n",
    "seed = int(((datetime.now() - datetime(1970, 1, 1)).total_seconds()) * (10**6)) # Unix timestamp\n",
    "n = p*q\n",
    "while (not coprime(n, seed)):\n",
    "\tseed = int(((datetime.now() - datetime(1970, 1, 1)).total_seconds()) * (10**6))\n",
    "\n",
    "# Generate N pseudo-random bits\n",
    "prngBits = bbsGenerate(p, q, seed, 10**6)\n",
    "#print(prngBits)\n",
    "\n",
    "# Check generated bits for 0s and (0,0) pairs\n",
    "zeroCount = 0\n",
    "zeroPairCount = 0\n",
    "for i in range(0, len(prngBits) - 1):\n",
    "\tif (prngBits[i] == 0):\n",
    "\t\tzeroCount += 1\n",
    "\t\tif (prngBits[i + 1] == 0):\n",
    "\t\t\tzeroPairCount += 1\n",
    "if (prngBits[-1] == 0):\n",
    "\tzeroCount += 1\n",
    "print(f\"Number of 0s: {zeroCount}\")\n",
    "print(f\"Number of (0,0) pairs: {zeroPairCount}\")\n",
    "freqZeros = zeroCount / len(prngBits)\n",
    "freqZeroPairs = zeroPairCount / (len(prngBits) - 1)\n",
    "print(f\"Frequency of 0s: {freqZeros}\")\n",
    "print(f\"Frequency of (0,0) pairs: {freqZeroPairs}\")"
   ]
  },
  {
   "cell_type": "markdown",
   "id": "e4ca10b9",
   "metadata": {},
   "source": [
    "## 3. Linear Feedback Shift Register (LFSR)"
   ]
  },
  {
   "cell_type": "markdown",
   "id": "8b4f202f",
   "metadata": {},
   "source": [
    "Given recurrence:\n",
    "$$\n",
    "    x_i = x_{i-4} + x_{i-10} + x_{i-11} + x_{i-12} (\\text{mod} 2)\n",
    "$$\n",
    "\n",
    "<ol type=\"a\">\n",
    "  <li>This recurrence has a length of m=12. The maximal length before this recurrence repeats itself is $2^{12} - 1 = 4095$.</li>\n",
    "  <li>12 bits are needed to initialize this LFSR.</li>\n",
    "</ol>"
   ]
  },
  {
   "cell_type": "code",
   "execution_count": 84,
   "id": "b4fd7f9c",
   "metadata": {},
   "outputs": [
    {
     "name": "stdout",
     "output_type": "stream",
     "text": [
      "Initialization Vector: [0 1 1 0 1 1 0 1 0 0 0 1]\n",
      "Number of 0s: 2047\n",
      "Number of (0,0) pairs: 1022\n",
      "Frequency of 0s: 0.4998778998778999\n",
      "Frequency of (0,0) pairs: 0.24963361016121152\n"
     ]
    }
   ],
   "source": [
    "# LFSR Implementation (c)\n",
    "def LFSR(initialBits, N, table=False):\n",
    "\tif (len(initialBits) != 12):\n",
    "\t\traise ValueError(\"Initial bits must be 12 bits long\")\n",
    "\t\n",
    "\t# Initialize LFSR\n",
    "\tstate = initialBits\n",
    "\tsum = (state[0] + state[1] + state[2] + state[8]) % 2\n",
    "\n",
    "\t# Calculate random bits\n",
    "\t# Coefficients (n-i): 4, 10, 11, 12\n",
    "\toutputBits = []\n",
    "\tif (table): \n",
    "\t\tprint(\"State: \\t \\t \\t \\t Output:\")\n",
    "\tfor i in range(0, N):\n",
    "\t\tstate[0:11] = state[1:12]\n",
    "\t\tstate[11] = sum\n",
    "\t\tsum = (state[0] + state[1] + state[2] + state[8]) % 2\n",
    "\t\toutputBits.append(sum)\n",
    "\t\tif (table):\n",
    "\t\t\tprint(f\"{state} \\t {sum}\")\n",
    "\treturn outputBits\n",
    "\n",
    "# Generate bits with LFSR\n",
    "#initialBits = np.array([0, 0, 0, 1, 0, 0, 0, 0, 0, 0, 1, 0]) # For testing, this is statically set\n",
    "initialBits = np.random.choice([0,1], 12)\n",
    "while (not initialBits.any()):\n",
    "    initialBits = np.random.choice([0,1], 12)\n",
    "print(f\"Initialization Vector: {initialBits}\")\n",
    "N = 4095\n",
    "randomBits = LFSR(initialBits, N)\n",
    "\n",
    "# Calculate 0 and (0, 0) frequencies (d)\n",
    "zeroCount = 0\n",
    "zeroPairCount = 0\n",
    "for i in range(0, len(randomBits) - 1):\n",
    "\tif (randomBits[i] == 0):\n",
    "\t\tzeroCount += 1\n",
    "\t\tif (randomBits[i + 1] == 0):\n",
    "\t\t\tzeroPairCount += 1\n",
    "if (randomBits[-1] == 0):\n",
    "\tzeroCount += 1\n",
    "print(f\"Number of 0s: {zeroCount}\")\n",
    "print(f\"Number of (0,0) pairs: {zeroPairCount}\")\n",
    "freqZeros = zeroCount / len(randomBits)\n",
    "freqZeroPairs = zeroPairCount / (len(randomBits) - 1)\n",
    "print(f\"Frequency of 0s: {freqZeros}\")\n",
    "print(f\"Frequency of (0,0) pairs: {freqZeroPairs}\")"
   ]
  },
  {
   "cell_type": "markdown",
   "id": "a46af172",
   "metadata": {},
   "source": [
    "## 4. LFSR cont."
   ]
  },
  {
   "cell_type": "markdown",
   "id": "bb982a8f",
   "metadata": {},
   "source": [
    "Given recurrence: \n",
    "$$\n",
    "x_i = c_i x_{i-1} + ... + c_m x_{i-m} (\\text{mod} 2)\n",
    "$$\n",
    "\n",
    "We can show that, if the number of non-zero coefficients is odd, then the recurrence will not generate a maximal-length sequence by providing a counterexample. \n",
    "\n",
    "Take, for example, the LFSR $x_n = x_{n-3} + x_{n-4} + x_{n-5} (\\text{mod} 2)$. This has an odd number of coefficients (3), and, by using the code below, we can verify that it generates a non-maximal sequence."
   ]
  },
  {
   "cell_type": "code",
   "execution_count": 85,
   "id": "0a1c3451",
   "metadata": {},
   "outputs": [
    {
     "name": "stdout",
     "output_type": "stream",
     "text": [
      "State: \t \t \t \t Output:\n",
      "[1, 0, 0, 0, 1] \t 1\n",
      "[0, 0, 0, 1, 1] \t 0\n",
      "[0, 0, 1, 1, 0] \t 1\n",
      "[0, 1, 1, 0, 1] \t 0\n",
      "[1, 1, 0, 1, 0] \t 0\n",
      "[1, 0, 1, 0, 0] \t 0\n",
      "[0, 1, 0, 0, 0] \t 1\n",
      "[1, 0, 0, 0, 1] \t 1\n",
      "[0, 0, 0, 1, 1] \t 0\n",
      "[0, 0, 1, 1, 0] \t 1\n",
      "[0, 1, 1, 0, 1] \t 0\n",
      "[1, 1, 0, 1, 0] \t 0\n",
      "[1, 0, 1, 0, 0] \t 0\n",
      "[0, 1, 0, 0, 0] \t 1\n",
      "[1, 0, 0, 0, 1] \t 1\n",
      "[0, 0, 0, 1, 1] \t 0\n",
      "[0, 0, 1, 1, 0] \t 1\n",
      "[0, 1, 1, 0, 1] \t 0\n",
      "[1, 1, 0, 1, 0] \t 0\n",
      "[1, 0, 1, 0, 0] \t 0\n",
      "[0, 1, 0, 0, 0] \t 1\n",
      "[1, 0, 0, 0, 1] \t 1\n",
      "[0, 0, 0, 1, 1] \t 0\n",
      "[0, 0, 1, 1, 0] \t 1\n",
      "[0, 1, 1, 0, 1] \t 0\n",
      "[1, 1, 0, 1, 0] \t 0\n",
      "[1, 0, 1, 0, 0] \t 0\n",
      "[0, 1, 0, 0, 0] \t 1\n",
      "[1, 0, 0, 0, 1] \t 1\n",
      "[0, 0, 0, 1, 1] \t 0\n",
      "[0, 0, 1, 1, 0] \t 1\n",
      "[0, 1, 1, 0, 1] \t 0\n",
      "[1, 0, 1, 0, 0, 0, 1, 1, 0, 1, 0, 0, 0, 1, 1, 0, 1, 0, 0, 0, 1, 1, 0, 1, 0, 0, 0, 1, 1, 0, 1, 0]\n"
     ]
    }
   ],
   "source": [
    "# Generalizes LFSR to m bits\n",
    "def GenericLFSR(initialBits, m, coeffs, N, table=False):\n",
    "\tif (len(initialBits) != m):\n",
    "\t\traise ValueError(f\"Initial bits must be {m} bits long\")\n",
    "\tif (len(coeffs) > m):\n",
    "\t\traise ValueError(f\"Too many coefficients! ({len(coeffs)} > m)\")\n",
    "\n",
    "\t# Initialize LFSR\n",
    "\tstate = initialBits\n",
    "\tsum = 0\n",
    "\tfor j in range(0, len(coeffs)):\n",
    "\t\t\tsum += state[m - coeffs[j]]\n",
    "\tsum = sum % 2\n",
    "\n",
    "\t# Calculate random bits\n",
    "\toutputBits = []\n",
    "\tif (table): \n",
    "\t\tprint(\"State: \\t \\t \\t \\t Output:\")\n",
    "\tfor i in range(0, N):\n",
    "\t\t# Shift register left\n",
    "\t\tstate[0:m-1] = state[1:m]\n",
    "\t\tstate[m-1] = sum\n",
    "\n",
    "\t\t# Find sum\n",
    "\t\tsum = 0\n",
    "\t\tfor j in range(0, len(coeffs)):\n",
    "\t\t\tsum += state[m - coeffs[j]]\n",
    "\t\tsum = sum % 2\n",
    "\n",
    "\t\t# Add to list\n",
    "\t\toutputBits.append(sum)\n",
    "\t\tif (table):\n",
    "\t\t\tprint(f\"{state} \\t {sum}\")\n",
    "\treturn outputBits\n",
    "\n",
    "# Generic LFSR testing\n",
    "m = 5\n",
    "N = 2**m\n",
    "#initialBits = np.random.choice([0,1], m)\n",
    "#while (not initialBits.any()):\n",
    "#\tinitialBits = np.random.choice([0,1], m)\n",
    "initialBits = [0, 1, 0, 0 ,0]\n",
    "randomBits = GenericLFSR(initialBits, m, [3, 4, 5], N, table=True)\n",
    "print(randomBits)"
   ]
  },
  {
   "cell_type": "markdown",
   "id": "a4ae0498",
   "metadata": {},
   "source": [
    "We can see that this LFSR has a period of 7 rounds, with the first and seventh round having the state `[1,0,0,0,1]` in the first and eighth rounds."
   ]
  }
 ],
 "metadata": {
  "kernelspec": {
   "display_name": "Python 3 (ipykernel)",
   "language": "python",
   "name": "python3"
  },
  "language_info": {
   "codemirror_mode": {
    "name": "ipython",
    "version": 3
   },
   "file_extension": ".py",
   "mimetype": "text/x-python",
   "name": "python",
   "nbconvert_exporter": "python",
   "pygments_lexer": "ipython3",
   "version": "3.10.12"
  }
 },
 "nbformat": 4,
 "nbformat_minor": 5
}
