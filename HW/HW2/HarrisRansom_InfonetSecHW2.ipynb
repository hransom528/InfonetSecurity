{
 "cells": [
  {
   "cell_type": "markdown",
   "id": "1f7a9a20",
   "metadata": {},
   "source": [
    "# Infonet Security HW2\n",
    "#### Harris A. Ransom\n",
    "#### 10/09/2024"
   ]
  },
  {
   "cell_type": "markdown",
   "id": "d0b90ac1",
   "metadata": {},
   "source": [
    "## Imports"
   ]
  },
  {
   "cell_type": "code",
   "execution_count": 22,
   "id": "759f01fb",
   "metadata": {},
   "outputs": [],
   "source": [
    "# Imports\n",
    "from datetime import datetime\n",
    "from math import gcd\n",
    "import random"
   ]
  },
  {
   "cell_type": "markdown",
   "id": "6324685b",
   "metadata": {},
   "source": [
    "## 1. One-Time Pad "
   ]
  },
  {
   "cell_type": "code",
   "execution_count": 23,
   "id": "fab6cd6d",
   "metadata": {},
   "outputs": [
    {
     "name": "stdout",
     "output_type": "stream",
     "text": [
      "Ciphertext: ['L', '@', '\\x1b', '.', 'D', '|', 'S', '8', '\\x19', 'Z', '\\x15']\n",
      "Decrypted Message: helloAlice!\n",
      "Plaintext successfully encrypted and decrypted!\n"
     ]
    }
   ],
   "source": [
    "# One-Time Pad XOR Encrypt Function\n",
    "def otpEncrypt(m, k):\n",
    "\tciphertext = []\n",
    "\tif (len(m) != len(k)):\n",
    "\t\traise ValueError(\"Message and key are not the same length\")\n",
    "\t\n",
    "\tfor i in range(0, len(m)):\n",
    "\t\tc = ord(m[i]) ^ ord(k[i])\n",
    "\t\tciphertext.append(chr(c))\n",
    "\treturn ciphertext\n",
    "\n",
    "# One-Time Pad XOR Decrypt Function\n",
    "def otpDecrypt(c, k):\n",
    "\tplaintext = []\n",
    "\tif (len(c) != len(k)):\n",
    "\t\traise ValueError(\"Ciphertext and key are not the same length\")\n",
    "\n",
    "\tfor i in range(0, len(c)):\n",
    "\t\tp = ord(c[i]) ^ ord(k[i])\n",
    "\t\tplaintext.append(chr(p))\n",
    "\treturn \"\".join(plaintext)\n",
    "\n",
    "# Initialize plaintext and key\n",
    "plaintext = \"helloAlice!\"\n",
    "key = \"$%wB+=?Qz?4\" # I know defining a key in plaintext is bad practice, but it's just for testing purposes\n",
    "\n",
    "# Encrypt plaintext\n",
    "ciphertext = otpEncrypt(plaintext, key)\n",
    "print(f\"Ciphertext: {ciphertext}\")\n",
    "\n",
    "# Decrypt ciphertext\n",
    "decrypted = otpDecrypt(ciphertext, key)\n",
    "print(f\"Decrypted Message: {decrypted}\")\n",
    "if (decrypted == plaintext):\n",
    "\tprint(\"Plaintext successfully encrypted and decrypted!\")\n",
    "else:\n",
    "\tprint(\"Error in encryption/decryption process!\")"
   ]
  },
  {
   "cell_type": "markdown",
   "id": "bbc18fb6",
   "metadata": {},
   "source": [
    "## 2. Blum-Blum-Shub PRNG"
   ]
  },
  {
   "cell_type": "code",
   "execution_count": 24,
   "id": "d5815c6c",
   "metadata": {},
   "outputs": [
    {
     "name": "stdout",
     "output_type": "stream",
     "text": [
      "Number of 0s: 500823\n",
      "Number of (0,0) pairs: 250878\n",
      "Frequency of 0s: 0.500823\n",
      "Frequency of (0,0) pairs: 0.2508782508782509\n"
     ]
    }
   ],
   "source": [
    "# Helper function to check if two numbers are relatively prime\n",
    "def coprime(a, b):\n",
    "    return gcd(a, b) == 1\n",
    "\n",
    "# Generates N pseudo-random bits\n",
    "def bbsGenerate(p, q, seed, numBits):\n",
    "\tprngBits = []\n",
    "\tx = []\n",
    "\tn = p*q\n",
    "\n",
    "\t# Initialize with seed value\n",
    "\tx0 = (seed**2) % n\n",
    "\tx.append(x0)\n",
    "\tprngBits.append(x0 % 2)\n",
    "\n",
    "\t# Generate rest of the bits\n",
    "\tfor i in range(0, numBits-1):\n",
    "\t\txi = (x[i] ** 2) % n\n",
    "\t\tx.append(xi)\n",
    "\t\tprngBits.append(xi % 2)\n",
    "\treturn prngBits\n",
    "\n",
    "# Choose p, q, seed\n",
    "# p = q = 3 (mod 4)\n",
    "p = (random.randint(100000000, 10000000000) * 4) + 3 \n",
    "q = (random.randint(100000000, 10000000000) * 4) + 3\n",
    "n = p * q\n",
    "seed = int(((datetime.now() - datetime(1970, 1, 1)).total_seconds()) * (10**6)) # Unix timestamp\n",
    "while (not coprime(n, seed)):\n",
    "\tseed = int(((datetime.now() - datetime(1970, 1, 1)).total_seconds()) * (10**6))\n",
    "\n",
    "# Generate N pseudo-random bits\n",
    "prngBits = bbsGenerate(p, q, seed, 10**6)\n",
    "#print(prngBits)\n",
    "\n",
    "# Check generated bits for 0s and (0,0) pairs\n",
    "zeroCount = 0\n",
    "zeroPairCount = 0\n",
    "for i in range(0, len(prngBits) - 1):\n",
    "\tif (prngBits[i] == 0):\n",
    "\t\tzeroCount += 1\n",
    "\t\tif (prngBits[i + 1] == 0):\n",
    "\t\t\tzeroPairCount += 1\n",
    "if (prngBits[-1] == 0):\n",
    "\tzeroCount += 1\n",
    "print(f\"Number of 0s: {zeroCount}\")\n",
    "print(f\"Number of (0,0) pairs: {zeroPairCount}\")\n",
    "freqZeros = zeroCount / len(prngBits)\n",
    "freqZeroPairs = zeroPairCount / (len(prngBits) - 1)\n",
    "print(f\"Frequency of 0s: {freqZeros}\")\n",
    "print(f\"Frequency of (0,0) pairs: {freqZeroPairs}\")"
   ]
  },
  {
   "cell_type": "markdown",
   "id": "e4ca10b9",
   "metadata": {},
   "source": [
    "## 3. Linear Feedback Shift Register (LFSR)"
   ]
  },
  {
   "cell_type": "markdown",
   "id": "8b4f202f",
   "metadata": {},
   "source": [
    "Given recurrence:\n",
    "$$\n",
    "    x_i = x_{i-4} + x_{i-10} + x_{i-11} + x_{i-12} (\\text{mod} 2)\n",
    "$$\n",
    "\n",
    "<ol type=\"a\">\n",
    "  <li>This recurrence has a length of m=12. The maximal length before this recurrence repeats itself is $2^{12} - 1 = 4095$.</li>\n",
    "  <li>12 bits are needed to initialize this LFSR.</li>\n",
    "</ol>"
   ]
  },
  {
   "cell_type": "code",
   "execution_count": null,
   "id": "b4fd7f9c",
   "metadata": {},
   "outputs": [],
   "source": []
  },
  {
   "cell_type": "markdown",
   "id": "a46af172",
   "metadata": {},
   "source": [
    "## 4. LFSR cont."
   ]
  },
  {
   "cell_type": "markdown",
   "id": "bb982a8f",
   "metadata": {},
   "source": [
    "Given recurrence: \n",
    "$$\n",
    "x_i = c_i x_{i-1} + ... + c_m x_{i-m} (\\text{mod} 2)\n",
    "$$\n",
    "\n",
    "We can show that, if the number of non-zero coefficients is odd, then the recurrence will not generate a maximal-length sequence. TODO"
   ]
  }
 ],
 "metadata": {
  "kernelspec": {
   "display_name": "Python 3 (ipykernel)",
   "language": "python",
   "name": "python3"
  },
  "language_info": {
   "codemirror_mode": {
    "name": "ipython",
    "version": 3
   },
   "file_extension": ".py",
   "mimetype": "text/x-python",
   "name": "python",
   "nbconvert_exporter": "python",
   "pygments_lexer": "ipython3",
   "version": "3.10.12"
  }
 },
 "nbformat": 4,
 "nbformat_minor": 5
}
