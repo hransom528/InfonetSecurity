{
 "cells": [
  {
   "cell_type": "markdown",
   "id": "33d464df",
   "metadata": {},
   "source": [
    "# Infonet Security HW4\n",
    "### Harris A. Ransom\n",
    "### 11/20/2024"
   ]
  },
  {
   "cell_type": "code",
   "execution_count": 9,
   "id": "908e48f6",
   "metadata": {},
   "outputs": [],
   "source": [
    "# Imports\n",
    "import numpy as np\n",
    "import secrets\n",
    "import time"
   ]
  },
  {
   "cell_type": "markdown",
   "id": "a519e307",
   "metadata": {},
   "source": [
    "## Q1: Secure Key Exchange"
   ]
  },
  {
   "cell_type": "markdown",
   "id": "ac4ff535",
   "metadata": {},
   "source": [
    "### Q1a: Diffie Hellman"
   ]
  },
  {
   "cell_type": "code",
   "execution_count": 10,
   "id": "43fcfe35",
   "metadata": {},
   "outputs": [
    {
     "name": "stdout",
     "output_type": "stream",
     "text": [
      "Alice's Secret Integer (x): 5487378038450635394994717379382635018777995225597514570861399343569067271741\n",
      "Bob's Secret Integer (y): 43154667238290840355444820841868758908351110189763566885474783087804354170102\n",
      "Alice's Message (A): 20003914315725963909013446581118207239629802046484050318681142065741894001714\n",
      "Bob's Message (B): 34483544054885597780830406017738702804268373630139936637131763414243184357192\n",
      "Alice's Computed Key (Ka): 12010975684095365854478360701621999934053414961462977747575693557447126605299\n",
      "Bob's Computed Key (Kb): 12010975684095365854478360701621999934053414961462977747575693557447126605299\n",
      "Computed keys match!\n"
     ]
    }
   ],
   "source": [
    "# Implements efficient exponentiation algorithm\n",
    "def exponentiation(m, e, n):\n",
    "    # return (m ** e) % n\n",
    "    r = 1 # Initialize result to 1\n",
    "    e_bin = bin(e)[2:]\n",
    "    for i in e_bin:\n",
    "        r = (r**2) % n\n",
    "        if (i == '1'):\n",
    "            r = (r*m) % n\n",
    "    return r\n",
    "\n",
    "# Performs Diffie Hellman key exchange computations\n",
    "def DiffieHellman(alpha, p):\n",
    "    # Alice\n",
    "    x = secrets.randbits(256)\n",
    "    A = exponentiation(alpha, x, p)\n",
    "    \n",
    "    # Bob\n",
    "    y = secrets.randbits(256)\n",
    "    B = exponentiation(alpha, y, p)\n",
    "    \n",
    "    # Alice receives B and computes shared secret\n",
    "    Ka = exponentiation(B, x, p)\n",
    "    \n",
    "    # Bob receives A and computes shared secret\n",
    "    Kb = exponentiation(A, y, p)\n",
    "    \n",
    "    # Outputs\n",
    "    print(f\"Alice's Secret Integer (x): {x}\")\n",
    "    print(f\"Bob's Secret Integer (y): {y}\")\n",
    "    print(f\"Alice's Message (A): {A}\")\n",
    "    print(f\"Bob's Message (B): {B}\")\n",
    "    print(f\"Alice's Computed Key (Ka): {Ka}\")\n",
    "    print(f\"Bob's Computed Key (Kb): {Kb}\")\n",
    "    if (Ka == Kb):\n",
    "        print(\"Computed keys match!\")\n",
    "        K = Ka\n",
    "    else:\n",
    "        print(\"Error: Computed key mismatch!\")\n",
    "        K = -1\n",
    "    return A, B, K\n",
    "\n",
    "alpha = 2\n",
    "prime = 102188617217178804476387977160129334431745945009730065519337094992129677228373\n",
    "A, B, K = DiffieHellman(alpha, prime)"
   ]
  },
  {
   "cell_type": "markdown",
   "id": "cb5be774",
   "metadata": {},
   "source": [
    "### Q1b: RSA"
   ]
  },
  {
   "cell_type": "code",
   "execution_count": null,
   "id": "e55b843c",
   "metadata": {},
   "outputs": [],
   "source": []
  },
  {
   "cell_type": "markdown",
   "id": "e521c436",
   "metadata": {},
   "source": [
    "## Q2: Digital Signature Authentication"
   ]
  },
  {
   "cell_type": "code",
   "execution_count": null,
   "id": "b1af31db",
   "metadata": {},
   "outputs": [],
   "source": [
    "# Implements ElGamal authentication scheme\n",
    "def ElGamal(alpha, p, m=123456):\n",
    "    # Bob keygen\n",
    "    a = secrets.choice(np.arange(1, p-1)) # 1 <= a <= p-2\n",
    "    beta = exponentiation(alpha, a, p) # Computes Beta for Bob's public key\n",
    "        # Public Key: (p, alpha, beta)\n",
    "        # Private key: a\n",
    "    \n",
    "    # Alice sends message\n",
    "    if (m >= p):\n",
    "        raise ValueError(\"Message cannot be larger than prime modulus!\")\n",
    "    k = secrets.choice(np.arange(1, p-1)) # 1 <= k <= p-2\n",
    "    r = exponentiation(alpha, k, p)\n",
    "    t = m * exponentiation(beta, k, p)\n",
    "    c = (r, t) # Ciphertext\n",
    "    \n",
    "    # TODO: Figure out Alice keygen for authentication"
   ]
  },
  {
   "cell_type": "markdown",
   "id": "f05257d6",
   "metadata": {},
   "source": [
    "## Q3: Replay Attacks"
   ]
  },
  {
   "cell_type": "code",
   "execution_count": null,
   "id": "c32c13fe",
   "metadata": {},
   "outputs": [],
   "source": []
  }
 ],
 "metadata": {
  "kernelspec": {
   "display_name": "Python 3 (ipykernel)",
   "language": "python",
   "name": "python3"
  },
  "language_info": {
   "codemirror_mode": {
    "name": "ipython",
    "version": 3
   },
   "file_extension": ".py",
   "mimetype": "text/x-python",
   "name": "python",
   "nbconvert_exporter": "python",
   "pygments_lexer": "ipython3",
   "version": "3.10.12"
  }
 },
 "nbformat": 4,
 "nbformat_minor": 5
}
