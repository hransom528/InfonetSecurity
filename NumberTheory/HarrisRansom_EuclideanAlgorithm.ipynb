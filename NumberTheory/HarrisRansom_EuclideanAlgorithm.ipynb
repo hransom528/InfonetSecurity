{
 "cells": [
  {
   "cell_type": "markdown",
   "id": "6cbc1ef9",
   "metadata": {},
   "source": [
    "# Euclidean GCD Algorithm\n",
    "### Harris A. Ransom\n",
    "### 09/18/2024"
   ]
  },
  {
   "cell_type": "code",
   "execution_count": 3,
   "id": "e49baf3c",
   "metadata": {},
   "outputs": [],
   "source": [
    "# Euclidean Algorithm (non-recursive)\n",
    "def gcd(a, b):\n",
    "\tif (a < b):\n",
    "\t\ta,b = b,a\n",
    "\n",
    "\titerations = 1\n",
    "\twhile((a%b) > 0):\n",
    "\t\tremainder = a % b\n",
    "\t\ta = b\n",
    "\t\tb = remainder\n",
    "\t\titerations += 1\n",
    "\treturn b, iterations"
   ]
  },
  {
   "cell_type": "code",
   "execution_count": 4,
   "id": "fd30005f",
   "metadata": {},
   "outputs": [
    {
     "name": "stdout",
     "output_type": "stream",
     "text": [
      "Enter a: 252\n",
      "Enter b: 105\n",
      "The GCD of 252 and 105 is 21\n",
      "Euclidean Algorithm Steps: 3\n",
      "\n"
     ]
    }
   ],
   "source": [
    "# Get input\n",
    "a = int(input(\"Enter a: \"))\n",
    "b = int(input(\"Enter b: \"))\n",
    "\n",
    "# Calculate GCD\n",
    "d, iterations = gcd(a, b)\n",
    "print(f\"The GCD of {a} and {b} is {d}\")\n",
    "print(f\"Euclidean Algorithm Steps: {iterations}\\n\")"
   ]
  }
 ],
 "metadata": {
  "kernelspec": {
   "display_name": "Python 3 (ipykernel)",
   "language": "python",
   "name": "python3"
  },
  "language_info": {
   "codemirror_mode": {
    "name": "ipython",
    "version": 3
   },
   "file_extension": ".py",
   "mimetype": "text/x-python",
   "name": "python",
   "nbconvert_exporter": "python",
   "pygments_lexer": "ipython3",
   "version": "3.10.12"
  }
 },
 "nbformat": 4,
 "nbformat_minor": 5
}
