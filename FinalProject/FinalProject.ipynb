{
 "cells": [
  {
   "cell_type": "markdown",
   "id": "c8b33e6b-9df6-4469-8e85-711234ccdb92",
   "metadata": {},
   "source": [
    "# Infonet Security Final Project\n",
    "### Harris Ransom, Serge Kuznetsov (Group 4)\n",
    "### 12/15/2024"
   ]
  },
  {
   "cell_type": "code",
   "execution_count": 3,
   "id": "7346dc2e-e6cf-4c00-b644-d8f62e385547",
   "metadata": {},
   "outputs": [],
   "source": [
    "# Imports\n",
    "import secrets\n",
    "import ctypes\n",
    "c_uint8 = ctypes.c_uint8"
   ]
  },
  {
   "cell_type": "markdown",
   "id": "d2a8447e-39df-4c26-9dbd-1f1aaf3d24d2",
   "metadata": {},
   "source": [
    "## Q1 Message Preprocessing"
   ]
  },
  {
   "cell_type": "code",
   "execution_count": 4,
   "id": "e4b80ca8-b3e0-47ea-b889-d1ac4387c950",
   "metadata": {},
   "outputs": [
    {
     "name": "stdout",
     "output_type": "stream",
     "text": [
      "3, 6\n",
      "1, 0\n",
      "5, 10\n",
      "4, 1\n",
      "4, 0\n",
      "4, 8\n",
      "3, 0\n",
      "4, 13\n",
      "5, 26\n",
      "5, 31\n",
      "3, 1\n",
      "2, 2\n",
      "5, 19\n",
      "2, 3\n",
      "4, 0\n",
      "5, 31\n",
      "1, 0\n",
      "3, 3\n",
      "3, 6\n",
      "2, 2\n",
      "2, 0\n",
      "4, 2\n",
      "4, 7\n",
      "3, 2\n",
      "1, 1\n",
      "1, 1\n",
      "1, 1\n"
     ]
    }
   ],
   "source": [
    "# Bitfield structure to encode a concatenated message\n",
    "# TODO: Figure out variable-length bitfield, or other type of implementation\n",
    "class MessageBlock(ctypes.LittleEndianStructure):\n",
    "    _fields_ = [\n",
    "            (\"n\", c_uint8, 8),\n",
    "            #(\"m\", )\n",
    "    ]\n",
    "\n",
    "# Container for encoded, concatenated message blocks\n",
    "class EncodedMessages(ctypes.LittleEndianStructure):\n",
    "    _fields_ = [\n",
    "            (\"k\", c_uint8, 5),\n",
    "            #(\"n_m_arr\", c_uint8, 1),\n",
    "        ]\n",
    "\n",
    "# TODO: Implement message encoding\n",
    "def AppendMessageBlock(n:c_uint8, m):\n",
    "    print(f\"{n}, {m}\")\n",
    "    return\n",
    "\n",
    "k = secrets.randbelow(32)\n",
    "for i in range(k):\n",
    "    ni = secrets.choice(list(range(1, 6)))\n",
    "    mi = secrets.randbits(ni)\n",
    "    AppendMessageBlock(ni, mi)\n",
    "    \n",
    "# TODO: Implement message decoding"
   ]
  },
  {
   "cell_type": "markdown",
   "id": "f8b64706",
   "metadata": {},
   "source": []
  }
 ],
 "metadata": {
  "kernelspec": {
   "display_name": "Python 3 (ipykernel)",
   "language": "python",
   "name": "python3"
  },
  "language_info": {
   "codemirror_mode": {
    "name": "ipython",
    "version": 3
   },
   "file_extension": ".py",
   "mimetype": "text/x-python",
   "name": "python",
   "nbconvert_exporter": "python",
   "pygments_lexer": "ipython3",
   "version": "3.10.12"
  }
 },
 "nbformat": 4,
 "nbformat_minor": 5
}
